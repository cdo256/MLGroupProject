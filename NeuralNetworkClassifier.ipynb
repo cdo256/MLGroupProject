{
 "cells": [
  {
   "cell_type": "code",
   "execution_count": 48,
   "metadata": {
    "colab": {
     "base_uri": "https://localhost:8080/"
    },
    "executionInfo": {
     "elapsed": 2198,
     "status": "ok",
     "timestamp": 1729849657760,
     "user": {
      "displayName": "Christina O'Donnell",
      "userId": "02520222635535242469"
     },
     "user_tz": -60
    },
    "id": "_yiKd_jcDSow",
    "outputId": "52f4ce37-2e54-4062-e328-fe66b22f2c52"
   },
   "outputs": [],
   "source": [
    "%run HeartDataPreprocess.ipynb"
   ]
  },
  {
   "cell_type": "code",
   "execution_count": 49,
   "metadata": {},
   "outputs": [],
   "source": [
    "#Dividing Data into training and test sets \n",
    "\n",
    "normalisedHot_df_train, normalisedHot_df_test, y_norm_train, y_norm_test = train_test_split(normalisedHot_data, y, test_size=0.3,random_state=1, stratify=y)\n",
    "unnormalisedHot_df_train, unnormalisedHot_df_test, y_unnorm_train, y_unnorm_test = train_test_split(unnormalisedHot_data, y, test_size=0.3,random_state=1, stratify=y)\n"
   ]
  },
  {
   "cell_type": "code",
   "execution_count": 50,
   "metadata": {},
   "outputs": [
    {
     "name": "stdout",
     "output_type": "stream",
     "text": [
      "The classifier accuracy score of MLP is 0.496\n"
     ]
    }
   ],
   "source": [
    "from sklearn.neural_network import MLPClassifier\n",
    "mlp_clf = MLPClassifier(max_iter=2000,activation=\"relu\",solver=\"adam\").fit(normalisedHot_df_train, y_norm_train)\n",
    "mlp_clf.predict_proba(normalisedHot_df_test)\n",
    "classifier_score = mlp_clf.score(normalisedHot_df_test, y_norm_test)\n",
    "print('The classifier accuracy score of MLP is {:03.3f}'.format(classifier_score))"
   ]
  },
  {
   "cell_type": "code",
   "execution_count": 51,
   "metadata": {},
   "outputs": [
    {
     "name": "stdout",
     "output_type": "stream",
     "text": [
      "[0.52717391 0.48913043 0.47282609 0.50543478 0.29347826]\n",
      "Average score and standard deviation: (45.76 +- 3.757)%\n"
     ]
    }
   ],
   "source": [
    "from sklearn.model_selection import cross_val_score\n",
    "\n",
    "n_folds = 5\n",
    "mlp_clf = MLPClassifier(max_iter=10000,activation=\"relu\",solver=\"adam\")\n",
    "scores = cross_val_score(mlp_clf, normalisedHot_data,y, cv = 5)\n",
    "\n",
    "print(scores)\n",
    "avg = (100 * np.mean(scores), 100 * np.std(scores)/np.sqrt(scores.shape[0]))\n",
    "print(\"Average score and standard deviation: (%.2f +- %.3f)%%\" %avg)\n"
   ]
  },
  {
   "cell_type": "code",
   "execution_count": 52,
   "metadata": {},
   "outputs": [
    {
     "name": "stdout",
     "output_type": "stream",
     "text": [
      "The classifier accuracy is 0.51\n",
      "The classifier accuracy is 0.50\n",
      "The classifier accuracy is 0.52\n",
      "The classifier accuracy is 0.58\n",
      "The classifier accuracy is 0.51\n"
     ]
    }
   ],
   "source": [
    "from sklearn.model_selection import KFold\n",
    "\n",
    "kf = KFold(n_splits=5,shuffle = True)\n",
    "for train, test in kf.split(normalisedHot_data, y):\n",
    "    mlp_clf = MLPClassifier(max_iter=10000,activation=\"relu\",solver=\"adam\")\n",
    "    mlp_clf.fit(normalisedHot_data[train], y[train])\n",
    "    classifier_score = mlp_clf.score(normalisedHot_data[test], y[test])\n",
    "    print('The classifier accuracy is {:03.2f}'.format(classifier_score))"
   ]
  }
 ],
 "metadata": {
  "colab": {
   "authorship_tag": "ABX9TyN/H8mta3Rr6JzhC6FpzKc3",
   "mount_file_id": "1O6-89A5F_EpKEBuP9Spxrt5ojylNVuyN",
   "provenance": []
  },
  "kernelspec": {
   "display_name": "MLE",
   "language": "python",
   "name": "python3"
  },
  "language_info": {
   "codemirror_mode": {
    "name": "ipython",
    "version": 3
   },
   "file_extension": ".py",
   "mimetype": "text/x-python",
   "name": "python",
   "nbconvert_exporter": "python",
   "pygments_lexer": "ipython3",
   "version": "3.10.15"
  }
 },
 "nbformat": 4,
 "nbformat_minor": 4
}
