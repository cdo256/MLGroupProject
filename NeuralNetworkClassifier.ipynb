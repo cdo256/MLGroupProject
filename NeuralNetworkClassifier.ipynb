{
 "cells": [
  {
   "cell_type": "code",
   "execution_count": 3,
   "metadata": {
    "colab": {
     "base_uri": "https://localhost:8080/"
    },
    "executionInfo": {
     "elapsed": 2198,
     "status": "ok",
     "timestamp": 1729849657760,
     "user": {
      "displayName": "Christina O'Donnell",
      "userId": "02520222635535242469"
     },
     "user_tz": -60
    },
    "id": "_yiKd_jcDSow",
    "outputId": "52f4ce37-2e54-4062-e328-fe66b22f2c52"
   },
   "outputs": [],
   "source": [
    "%run HeartDataPreprocess.ipynb\n",
    "%run Evaluation.ipynb"
   ]
  },
  {
   "cell_type": "code",
   "execution_count": null,
   "metadata": {},
   "outputs": [
    {
     "name": "stdout",
     "output_type": "stream",
     "text": [
      "\n",
      "Model: MLPClassifier(hidden_layer_sizes=[100], max_iter=2000)\n",
      "Training score:\t0.995\n",
      "Testing score:\t0.514\n",
      "Training time:\t7.554s\n",
      "Average score:\t(48.26 +- 2.298)%\n",
      "Cross-validation time:\t60.607s\n",
      "\n",
      "Model: MLPClassifier(hidden_layer_sizes=[100], max_iter=10000)\n",
      "Training score:\t0.997\n",
      "Testing score:\t0.504\n",
      "Training time:\t9.509s\n",
      "Average score:\t(47.72 +- 1.335)%\n",
      "Cross-validation time:\t52.147s\n"
     ]
    }
   ],
   "source": [
    "from sklearn.neural_network import MLPClassifier\n",
    "\n",
    "#Runs the MLPClassifer twice, once for a 2000 iteration and again for a 10000 iteration count to watch for convergence errors\n",
    "\n",
    "for max_iter in [2000,10000]:\n",
    "    mlp_clf = MLPClassifier(max_iter=max_iter,activation=\"relu\",solver=\"adam\")\n",
    "    evaluate_model(mlp_clf, normalisedHot_data, y)"
   ]
  }
 ],
 "metadata": {
  "colab": {
   "authorship_tag": "ABX9TyN/H8mta3Rr6JzhC6FpzKc3",
   "mount_file_id": "1O6-89A5F_EpKEBuP9Spxrt5ojylNVuyN",
   "provenance": []
  },
  "kernelspec": {
   "display_name": "MLE",
   "language": "python",
   "name": "python3"
  },
  "language_info": {
   "codemirror_mode": {
    "name": "ipython",
    "version": 3
   },
   "file_extension": ".py",
   "mimetype": "text/x-python",
   "name": "python",
   "nbconvert_exporter": "python",
   "pygments_lexer": "ipython3",
   "version": "3.10.15"
  }
 },
 "nbformat": 4,
 "nbformat_minor": 4
}
