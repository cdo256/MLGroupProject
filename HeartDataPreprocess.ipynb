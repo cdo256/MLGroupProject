{
 "cells": [
  {
   "cell_type": "code",
   "execution_count": 30,
   "metadata": {},
   "outputs": [],
   "source": [
    "import numpy as np\n",
    "import matplotlib as plt\n",
    "import pandas as pd\n",
    "import random\n",
    "import seaborn as sb\n",
    "import scipy\n",
    "from scipy.stats import pearsonr\n",
    "\n",
    "import sklearn\n",
    "from sklearn import datasets, linear_model\n",
    "from sklearn import preprocessing\n",
    "from sklearn.model_selection import train_test_split\n"
   ]
  },
  {
   "cell_type": "code",
   "execution_count": 31,
   "metadata": {},
   "outputs": [],
   "source": [
    "#Importing data from CSV\n",
    "all_df = pd.read_csv(\"HeartDiseaseData/HeartData.csv\",index_col = False, na_values = \"?\")"
   ]
  },
  {
   "cell_type": "code",
   "execution_count": 32,
   "metadata": {},
   "outputs": [],
   "source": [
    "#Impute Data\n",
    "from sklearn.impute import SimpleImputer\n",
    "imputer = SimpleImputer(missing_values = np.nan, strategy = \"constant\").set_output(transform = \"pandas\")\n",
    "\n",
    "imputedData = imputer.fit_transform(all_df)"
   ]
  },
  {
   "cell_type": "code",
   "execution_count": 33,
   "metadata": {},
   "outputs": [],
   "source": [
    "#Onehot encoding catagorical data\n",
    "from sklearn.preprocessing import OneHotEncoder\n",
    "\n",
    "HotEncoder = OneHotEncoder(handle_unknown = \"ignore\",sparse_output = False)\n",
    "ColumnHeaders = [\"sex\",\"cp\",\"fbs\",\"restecg\",\"exang\",\"slope\",\"ca\",\"thal\",\"loc\"]\n",
    "\n",
    "hotDataSet = HotEncoder.fit_transform(imputedData[ColumnHeaders])\n"
   ]
  },
  {
   "cell_type": "code",
   "execution_count": 34,
   "metadata": {},
   "outputs": [
    {
     "data": {
      "text/plain": [
       "(920, 5)"
      ]
     },
     "execution_count": 34,
     "metadata": {},
     "output_type": "execute_result"
    }
   ],
   "source": [
    "#Normalize data that isnt catagorical\n",
    "from sklearn.preprocessing import StandardScaler\n",
    "\n",
    "scaler = StandardScaler()\n",
    "ColumnHeaders = [\"age\",\"trestbps\",\"chol\",\"thalach\",\"oldpeak\"]\n",
    "\n",
    "#Xs is a normalised version of the required data\n",
    "Xs = scaler.fit_transform(imputedData[ColumnHeaders])\n",
    "\n",
    "#X is an unnormalised version of the data\n",
    "X = imputedData[ColumnHeaders]\n",
    "\n",
    "Xs.shape"
   ]
  },
  {
   "cell_type": "code",
   "execution_count": 35,
   "metadata": {},
   "outputs": [],
   "source": [
    "#Combine HotData and normalised data. Convert to function if more is needed\n",
    "#normalisedHot_df = pd.merge(Xs,hotDataSet, left_index = True, right_index = True)\n",
    "normalisedHot_data = np.hstack((Xs,hotDataSet))\n",
    "\n",
    "\n",
    "#Combining hotData and unnormalised data\n",
    "#unnormalisedHot_df = pd.merge(imputedData[ColumnHeaders],hotDataSet, left_index = True, right_index = True)\n",
    "unnormalisedHot_data = np.hstack((X,hotDataSet))"
   ]
  },
  {
   "cell_type": "code",
   "execution_count": 36,
   "metadata": {},
   "outputs": [],
   "source": [
    "#Making label for Y axis\n",
    "from sklearn.preprocessing import LabelEncoder\n",
    "le = LabelEncoder()\n",
    "\n",
    "imputedData[\"num\"] = le.fit_transform(imputedData[\"num\"])\n",
    "y = imputedData[\"num\"]\n"
   ]
  },
  {
   "cell_type": "code",
   "execution_count": 37,
   "metadata": {},
   "outputs": [],
   "source": [
    "#Dividing Data into training and test sets \n",
    "\n",
    "\n",
    "normalisedHot_df_train, normalisedHot_df_test, y_norm_train, y_norm_test = train_test_split(normalisedHot_data, y, test_size=0.3,random_state=1, stratify=y)\n",
    "unnormalisedHot_df_train, unnormalisedHot_df_test, y_unnorm_train, y_unnorm_test = train_test_split(unnormalisedHot_data, y, test_size=0.3,random_state=1, stratify=y)\n"
   ]
  },
  {
   "cell_type": "markdown",
   "metadata": {},
   "source": [
    "#How to access the variables\n",
    "\n",
    "- **normalisedHot_data** provides a normalised numpy array (Xs)\n",
    "- **unnormalisedHot_data** provides an unnormalised numpy array (X)\n",
    "- **y** provides the label (in this case it is num in the data set)"
   ]
  }
 ],
 "metadata": {
  "kernelspec": {
   "display_name": "MLE",
   "language": "python",
   "name": "python3"
  },
  "language_info": {
   "codemirror_mode": {
    "name": "ipython",
    "version": 3
   },
   "file_extension": ".py",
   "mimetype": "text/x-python",
   "name": "python",
   "nbconvert_exporter": "python",
   "pygments_lexer": "ipython3",
   "version": "3.10.15"
  }
 },
 "nbformat": 4,
 "nbformat_minor": 2
}
