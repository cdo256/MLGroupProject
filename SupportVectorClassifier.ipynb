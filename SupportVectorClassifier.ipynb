{
 "cells": [
  {
   "cell_type": "code",
   "execution_count": 13,
   "id": "937ea882-7559-43da-9997-e9c0dca4d0ac",
   "metadata": {},
   "outputs": [],
   "source": [
    "%run HeartDataPreprocess.ipynb\n",
    "%run Evaluation.ipynb"
   ]
  },
  {
   "cell_type": "code",
   "execution_count": 14,
   "id": "initial_id",
   "metadata": {},
   "outputs": [
    {
     "name": "stdout",
     "output_type": "stream",
     "text": [
      "Best parameters found: {'C': 10, 'kernel': 'linear'}\n"
     ]
    }
   ],
   "source": [
    "from sklearn.model_selection import train_test_split, GridSearchCV\n",
    "from sklearn.svm import SVC\n",
    "\n",
    "# Set up the parameter grid for SVM\n",
    "param_grid = {\n",
    "    'C': [0.1, 1, 10],\n",
    "    'kernel': ['linear', 'rbf']\n",
    "}\n",
    "\n",
    "# Initialize the SVM model\n",
    "svm = SVC(C=0.1,kernel=\"rbf\",)\n",
    "svm.fit(normalisedHot_df_train, y_norm_train)\n",
    "# Set up GridSearchCV\n",
    "grid_search = GridSearchCV(estimator=svm, param_grid=param_grid, scoring='neg_mean_squared_error', cv=5)\n",
    "grid_search.fit(normalisedHot_df_train, y_norm_train)\n",
    "# Best parameters from grid search\n",
    "print(\"Best parameters found:\", grid_search.best_params_)\n",
    "# Use the best model to make predictions\n",
    "best_model = grid_search.best_estimator_"
   ]
  },
  {
   "cell_type": "code",
   "execution_count": 15,
   "id": "27ca4d10-bdaf-4a3c-8040-1f3d23fcf183",
   "metadata": {},
   "outputs": [
    {
     "name": "stdout",
     "output_type": "stream",
     "text": [
      "\n",
      "Model: SVC(C=10, kernel='linear')\n",
      "Training score:\t0.607\n",
      "Testing score:\t0.529\n",
      "Training time:\t0.151s\n",
      "Average score:\t(51.85 +- 1.511)%\n",
      "Cross-validation time:\t1.400s\n"
     ]
    }
   ],
   "source": [
    "evaluate_model(best_model, normalisedHot_data, y)"
   ]
  }
 ],
 "metadata": {
  "kernelspec": {
   "display_name": "MLE",
   "language": "python",
   "name": "python3"
  },
  "language_info": {
   "codemirror_mode": {
    "name": "ipython",
    "version": 3
   },
   "file_extension": ".py",
   "mimetype": "text/x-python",
   "name": "python",
   "nbconvert_exporter": "python",
   "pygments_lexer": "ipython3",
   "version": "3.10.15"
  }
 },
 "nbformat": 4,
 "nbformat_minor": 5
}
