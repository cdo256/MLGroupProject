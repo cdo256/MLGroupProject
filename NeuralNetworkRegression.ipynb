{
 "cells": [
  {
   "cell_type": "code",
   "execution_count": 1,
   "metadata": {
    "colab": {
     "base_uri": "https://localhost:8080/"
    },
    "executionInfo": {
     "elapsed": 2198,
     "status": "ok",
     "timestamp": 1729849657760,
     "user": {
      "displayName": "Christina O'Donnell",
      "userId": "02520222635535242469"
     },
     "user_tz": -60
    },
    "id": "_yiKd_jcDSow",
    "outputId": "52f4ce37-2e54-4062-e328-fe66b22f2c52"
   },
   "outputs": [
    {
     "name": "stderr",
     "output_type": "stream",
     "text": [
      "C:\\Users\\cdjs\\AppData\\Local\\Temp\\ipykernel_77760\\3447305422.py:16: SettingWithCopyWarning: \n",
      "A value is trying to be set on a copy of a slice from a DataFrame.\n",
      "Try using .loc[row_indexer,col_indexer] = value instead\n",
      "\n",
      "See the caveats in the documentation: https://pandas.pydata.org/pandas-docs/stable/user_guide/indexing.html#returning-a-view-versus-a-copy\n",
      "  num_df[col] = num_df[col].replace(-1, pd.NA)\n",
      "C:\\Users\\cdjs\\AppData\\Local\\Temp\\ipykernel_77760\\3447305422.py:17: SettingWithCopyWarning: \n",
      "A value is trying to be set on a copy of a slice from a DataFrame.\n",
      "Try using .loc[row_indexer,col_indexer] = value instead\n",
      "\n",
      "See the caveats in the documentation: https://pandas.pydata.org/pandas-docs/stable/user_guide/indexing.html#returning-a-view-versus-a-copy\n",
      "  num_df[col] = num_df[col].fillna(base_df[col].mean())\n"
     ]
    }
   ],
   "source": [
    "%run BankPreprocess.ipynb\n",
    "%run Evaluation.ipynb"
   ]
  },
  {
   "cell_type": "code",
   "execution_count": 2,
   "metadata": {},
   "outputs": [],
   "source": [
    "#Dividing Data into training and test sets\n",
    "import sklearn\n",
    "from sklearn import datasets, linear_model\n",
    "from sklearn import preprocessing\n",
    "from sklearn.model_selection import train_test_split \n",
    "\n",
    "normalisedHot_df_train, normalisedHot_df_test, y_norm_train, y_norm_test = train_test_split(X_hot, y, test_size=0.2, random_state=1)"
   ]
  },
  {
   "cell_type": "code",
   "execution_count": 3,
   "metadata": {},
   "outputs": [
    {
     "name": "stdout",
     "output_type": "stream",
     "text": [
      "The regressor accuracy score of MLP is 0.433\n"
     ]
    }
   ],
   "source": [
    "\n",
    "from sklearn.neural_network import MLPRegressor\n",
    "\n",
    "\n",
    "mlp_clf = MLPRegressor(max_iter=10000,activation=\"relu\",solver=\"adam\").fit(normalisedHot_df_train, y_norm_train)\n",
    "mlp_clf.predict(normalisedHot_df_test)\n",
    "regressor_score = mlp_clf.score(normalisedHot_df_test, y_norm_test)\n",
    "print('The regressor accuracy score of MLP is {:03.3f}'.format(regressor_score))"
   ]
  },
  {
   "cell_type": "code",
   "execution_count": 4,
   "metadata": {},
   "outputs": [],
   "source": [
    "#evaluate_model(mlp_clf, normalisedHot_df_test, y, kind='Regression')"
   ]
  },
  {
   "cell_type": "code",
   "execution_count": 5,
   "metadata": {},
   "outputs": [
    {
     "name": "stdout",
     "output_type": "stream",
     "text": [
      "[0.17707312 0.15423268 0.10961424 0.2458344  0.47432535]\n",
      "Average score and standard deviation: (23.22 +- 5.760)%\n"
     ]
    }
   ],
   "source": [
    "from sklearn.model_selection import cross_val_score\n",
    "\n",
    "\n",
    "n_folds = 5\n",
    "mlp_rg = MLPRegressor(max_iter=10000,activation=\"relu\",solver=\"adam\")\n",
    "scores = cross_val_score(mlp_rg, X_hot,y, cv = 5)\n",
    "\n",
    "print(scores)\n",
    "avg = (100 * np.mean(scores), 100 * np.std(scores)/np.sqrt(scores.shape[0]))\n",
    "print(\"Average score and standard deviation: (%.2f +- %.3f)%%\" %avg)\n"
   ]
  },
  {
   "cell_type": "code",
   "execution_count": 6,
   "metadata": {},
   "outputs": [
    {
     "name": "stdout",
     "output_type": "stream",
     "text": [
      "\n",
      "Model: MLPRegressor(max_iter=10000)\n",
      "Training score:\t0.517\n",
      "Testing score:\t0.429\n",
      "Training time:\t96.510s\n",
      "Average score:\t(43.39 +- 0.563)%\n",
      "Cross-validation time:\t606.845s\n"
     ]
    }
   ],
   "source": [
    "evaluate_model(mlp_rg, X_hot, y, kind='Regression')"
   ]
  },
  {
   "cell_type": "code",
   "execution_count": 7,
   "metadata": {},
   "outputs": [
    {
     "name": "stdout",
     "output_type": "stream",
     "text": [
      "The classifier accuracy is 0.44\n",
      "The classifier accuracy is 0.44\n",
      "The classifier accuracy is 0.45\n",
      "The classifier accuracy is 0.44\n",
      "The classifier accuracy is 0.41\n"
     ]
    }
   ],
   "source": [
    "from sklearn.model_selection import KFold\n",
    "\n",
    "X_hot_np = np.array(X_hot)\n",
    "y_np = np.array(y)\n",
    "\n",
    "kf = KFold(n_splits=5,shuffle = True)\n",
    "for train, test in kf.split(X_hot_np, y):\n",
    "    mlp_rg = MLPRegressor(max_iter=10000,activation=\"relu\",solver=\"adam\")\n",
    "    mlp_rg.fit(X_hot_np[train], y_np[train])\n",
    "    regressor_score = mlp_rg.score(X_hot_np[test], y_np[test])\n",
    "    print('The classifier accuracy is {:03.2f}'.format(regressor_score))"
   ]
  },
  {
   "cell_type": "code",
   "execution_count": 8,
   "metadata": {},
   "outputs": [
    {
     "name": "stdout",
     "output_type": "stream",
     "text": [
      "\n",
      "Model: MLPRegressor(max_iter=10000)\n",
      "Training score:\t0.512\n",
      "Testing score:\t0.434\n",
      "Training time:\t70.828s\n",
      "Average score:\t(43.04 +- 0.244)%\n",
      "Cross-validation time:\t605.055s\n"
     ]
    }
   ],
   "source": [
    "evaluate_model(mlp_rg, X_hot_np, y, kind='Regression')"
   ]
  }
 ],
 "metadata": {
  "colab": {
   "authorship_tag": "ABX9TyN/H8mta3Rr6JzhC6FpzKc3",
   "mount_file_id": "1O6-89A5F_EpKEBuP9Spxrt5ojylNVuyN",
   "provenance": []
  },
  "kernelspec": {
   "display_name": "Python 3 (ipykernel)",
   "language": "python",
   "name": "python3"
  },
  "language_info": {
   "codemirror_mode": {
    "name": "ipython",
    "version": 3
   },
   "file_extension": ".py",
   "mimetype": "text/x-python",
   "name": "python",
   "nbconvert_exporter": "python",
   "pygments_lexer": "ipython3",
   "version": "3.10.15"
  }
 },
 "nbformat": 4,
 "nbformat_minor": 4
}
