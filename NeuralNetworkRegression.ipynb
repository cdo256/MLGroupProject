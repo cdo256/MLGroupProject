{
 "cells": [
  {
   "cell_type": "code",
   "execution_count": 1,
   "metadata": {
    "colab": {
     "base_uri": "https://localhost:8080/"
    },
    "executionInfo": {
     "elapsed": 2198,
     "status": "ok",
     "timestamp": 1729849657760,
     "user": {
      "displayName": "Christina O'Donnell",
      "userId": "02520222635535242469"
     },
     "user_tz": -60
    },
    "id": "_yiKd_jcDSow",
    "outputId": "52f4ce37-2e54-4062-e328-fe66b22f2c52"
   },
   "outputs": [],
   "source": [
    "%run BankPreprocess.ipynb\n",
    "%run Evaluation.ipynb\n",
    "\n",
    "\n",
    "import sklearn\n",
    "from sklearn.neural_network import MLPRegressor"
   ]
  },
  {
   "cell_type": "code",
   "execution_count": 2,
   "metadata": {},
   "outputs": [
    {
     "data": {
      "text/plain": [
       "'\\n#Dividing Data into training and test sets\\nfrom sklearn.model_selection import train_test_split \\nnormalisedHot_df_train, normalisedHot_df_test, y_norm_train, y_norm_test = train_test_split(X_hot, y, test_size=0.2, random_state=1)\\n\\nmlp_clf = MLPRegressor(max_iter=10000,activation=\"relu\",solver=\"adam\").fit(normalisedHot_df_train, y_norm_train)\\nmlp_clf.predict(normalisedHot_df_test)\\nregressor_score = mlp_clf.score(normalisedHot_df_test, y_norm_test)\\nprint(\\'The regressor accuracy score of MLP is {:03.3f}\\'.format(regressor_score))\\n'"
      ]
     },
     "execution_count": 2,
     "metadata": {},
     "output_type": "execute_result"
    }
   ],
   "source": [
    "#Initial implimentation of regression model \n",
    "'''\n",
    "#Dividing Data into training and test sets\n",
    "from sklearn.model_selection import train_test_split \n",
    "normalisedHot_df_train, normalisedHot_df_test, y_norm_train, y_norm_test = train_test_split(X_hot, y, test_size=0.2, random_state=1)\n",
    "\n",
    "mlp_clf = MLPRegressor(max_iter=10000,activation=\"relu\",solver=\"adam\").fit(normalisedHot_df_train, y_norm_train)\n",
    "mlp_clf.predict(normalisedHot_df_test)\n",
    "regressor_score = mlp_clf.score(normalisedHot_df_test, y_norm_test)\n",
    "print('The regressor accuracy score of MLP is {:03.3f}'.format(regressor_score))\n",
    "'''"
   ]
  },
  {
   "cell_type": "code",
   "execution_count": 3,
   "metadata": {},
   "outputs": [],
   "source": [
    "#evaluate_model(mlp_clf, normalisedHot_df_test, y, kind='Regression')"
   ]
  },
  {
   "cell_type": "code",
   "execution_count": 4,
   "metadata": {},
   "outputs": [
    {
     "data": {
      "text/plain": [
       "'\\nfrom sklearn.model_selection import cross_val_score\\nn_folds = 5\\nmlp_rg = MLPRegressor(max_iter=10000,activation=\"relu\",solver=\"adam\")\\nscores = cross_val_score(mlp_rg, X_hot,y, cv = 5)\\n\\nprint(scores)\\navg = (100 * np.mean(scores), 100 * np.std(scores)/np.sqrt(scores.shape[0]))\\nprint(\"Average score and standard deviation: (%.2f +- %.3f)%%\" %avg)\\n'"
      ]
     },
     "execution_count": 4,
     "metadata": {},
     "output_type": "execute_result"
    }
   ],
   "source": [
    "#Old method of cross validation\n",
    "'''\n",
    "from sklearn.model_selection import cross_val_score\n",
    "n_folds = 5\n",
    "mlp_rg = MLPRegressor(max_iter=10000,activation=\"relu\",solver=\"adam\")\n",
    "scores = cross_val_score(mlp_rg, X_hot,y, cv = 5)\n",
    "\n",
    "print(scores)\n",
    "avg = (100 * np.mean(scores), 100 * np.std(scores)/np.sqrt(scores.shape[0]))\n",
    "print(\"Average score and standard deviation: (%.2f +- %.3f)%%\" %avg)\n",
    "'''\n"
   ]
  },
  {
   "cell_type": "code",
   "execution_count": 5,
   "metadata": {},
   "outputs": [
    {
     "data": {
      "text/plain": [
       "'\\nfrom sklearn.model_selection import KFold\\n\\nX_hot_np = np.array(X_hot)\\ny_np = np.array(y)\\n\\nkf = KFold(n_splits=5,shuffle = True)\\nfor train, test in kf.split(X_hot_np, y):\\n    mlp_rg = MLPRegressor(max_iter=10000,activation=\"relu\",solver=\"adam\")\\n    mlp_rg.fit(X_hot_np[train], y_np[train])\\n    regressor_score = mlp_rg.score(X_hot_np[test], y_np[test])\\n    print(\\'The classifier accuracy is {:03.2f}\\'.format(regressor_score))\\n\\n'"
      ]
     },
     "execution_count": 5,
     "metadata": {},
     "output_type": "execute_result"
    }
   ],
   "source": [
    "#Initial implimemntation of KFold\n",
    "'''\n",
    "from sklearn.model_selection import KFold\n",
    "\n",
    "X_hot_np = np.array(X_hot)\n",
    "y_np = np.array(y)\n",
    "\n",
    "kf = KFold(n_splits=5,shuffle = True)\n",
    "for train, test in kf.split(X_hot_np, y):\n",
    "    mlp_rg = MLPRegressor(max_iter=10000,activation=\"relu\",solver=\"adam\")\n",
    "    mlp_rg.fit(X_hot_np[train], y_np[train])\n",
    "    regressor_score = mlp_rg.score(X_hot_np[test], y_np[test])\n",
    "    print('The classifier accuracy is {:03.2f}'.format(regressor_score))\n",
    "\n",
    "'''"
   ]
  },
  {
   "cell_type": "code",
   "execution_count": 7,
   "metadata": {},
   "outputs": [
    {
     "name": "stdout",
     "output_type": "stream",
     "text": [
      "\n",
      "Model: MLPRegressor(alpha=0.1, hidden_layer_sizes=(20, 5), max_iter=10000)\n",
      "Training score:\t0.468\n",
      "Testing score:\t0.447\n",
      "Training time:\t25.105s\n",
      "Average score:\t(44.74 +- 0.333)%\n",
      "Cross-validation time:\t127.437s\n"
     ]
    }
   ],
   "source": [
    "#Evaluates the MLPRegressor model\n",
    "mlp_rg = MLPRegressor(\n",
    "    max_iter=10000,\n",
    "    activation=\"relu\",\n",
    "    solver=\"adam\",\n",
    "    alpha=0.1,\n",
    "    hidden_layer_sizes=(20,5))\n",
    "evaluate_model(mlp_rg, X_hot, y, kind='Regression')"
   ]
  }
 ],
 "metadata": {
  "colab": {
   "authorship_tag": "ABX9TyN/H8mta3Rr6JzhC6FpzKc3",
   "mount_file_id": "1O6-89A5F_EpKEBuP9Spxrt5ojylNVuyN",
   "provenance": []
  },
  "kernelspec": {
   "display_name": "Python 3 (ipykernel)",
   "language": "python",
   "name": "python3"
  },
  "language_info": {
   "codemirror_mode": {
    "name": "ipython",
    "version": 3
   },
   "file_extension": ".py",
   "mimetype": "text/x-python",
   "name": "python",
   "nbconvert_exporter": "python",
   "pygments_lexer": "ipython3",
   "version": "3.12.6"
  }
 },
 "nbformat": 4,
 "nbformat_minor": 4
}
