{
 "cells": [
  {
   "cell_type": "code",
   "execution_count": 1,
   "metadata": {
    "colab": {
     "base_uri": "https://localhost:8080/"
    },
    "executionInfo": {
     "elapsed": 2198,
     "status": "ok",
     "timestamp": 1729849657760,
     "user": {
      "displayName": "Christina O'Donnell",
      "userId": "02520222635535242469"
     },
     "user_tz": -60
    },
    "id": "_yiKd_jcDSow",
    "outputId": "52f4ce37-2e54-4062-e328-fe66b22f2c52"
   },
   "outputs": [],
   "source": [
    "%run BankPreprocess.ipynb\n",
    "%run Evaluation.ipynb"
   ]
  },
  {
   "cell_type": "code",
   "execution_count": 2,
   "metadata": {},
   "outputs": [],
   "source": [
    "# For linear regression, we want to pick the data that is one-hot encoded.\n",
    "# This is because linear-regression can't deal with categorical data. \n",
    "X = X_hot"
   ]
  },
  {
   "cell_type": "code",
   "execution_count": 3,
   "metadata": {},
   "outputs": [
    {
     "name": "stdout",
     "output_type": "stream",
     "text": [
      "\n",
      "Model: LinearRegression()\n",
      "Training score:\t0.417\n",
      "Testing score:\t0.424\n",
      "Training time:\t5.257s\n",
      "Average score:\t(41.80 +- 0.413)%\n",
      "Cross-validation time:\t21.333s\n"
     ]
    }
   ],
   "source": [
    "from sklearn.linear_model import LinearRegression\n",
    "\n",
    "#Runs the linear regression model and evaulates\n",
    "lin_reg = LinearRegression()\n",
    "evaluate_model(lin_reg, X, y, kind='Regression')"
   ]
  }
 ],
 "metadata": {
  "colab": {
   "authorship_tag": "ABX9TyN/H8mta3Rr6JzhC6FpzKc3",
   "mount_file_id": "1O6-89A5F_EpKEBuP9Spxrt5ojylNVuyN",
   "provenance": []
  },
  "kernelspec": {
   "display_name": "Python 3 (ipykernel)",
   "language": "python",
   "name": "python3"
  },
  "language_info": {
   "codemirror_mode": {
    "name": "ipython",
    "version": 3
   },
   "file_extension": ".py",
   "mimetype": "text/x-python",
   "name": "python",
   "nbconvert_exporter": "python",
   "pygments_lexer": "ipython3",
   "version": "3.12.6"
  }
 },
 "nbformat": 4,
 "nbformat_minor": 4
}
