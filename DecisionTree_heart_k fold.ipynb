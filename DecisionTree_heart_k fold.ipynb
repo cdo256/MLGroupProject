{
 "cells": [
  {
   "cell_type": "code",
   "execution_count": 8,
   "metadata": {
    "scrolled": true
   },
   "outputs": [
    {
     "ename": "NameError",
     "evalue": "name 'normalisedHot_df' is not defined",
     "output_type": "error",
     "traceback": [
      "\u001b[1;31m---------------------------------------------------------------------------\u001b[0m",
      "\u001b[1;31mNameError\u001b[0m                                 Traceback (most recent call last)",
      "File \u001b[1;32m~\\AppData\\Local\\Temp\\ipykernel_54764\\3363856332.py:4\u001b[0m\n\u001b[0;32m      1\u001b[0m \u001b[38;5;66;03m#Dividing Data into training and test sets \u001b[39;00m\n\u001b[1;32m----> 4\u001b[0m normalisedHot_df_train, normalisedHot_df_test, y_norm_train, y_norm_test \u001b[38;5;241m=\u001b[39m train_test_split(\u001b[43mnormalisedHot_df\u001b[49m, y, test_size\u001b[38;5;241m=\u001b[39m\u001b[38;5;241m0.3\u001b[39m,random_state\u001b[38;5;241m=\u001b[39m\u001b[38;5;241m1\u001b[39m, stratify\u001b[38;5;241m=\u001b[39my)\n\u001b[0;32m      5\u001b[0m unnormalisedHot_df_train, unnormalisedHot_df_test, y_unnorm_train, y_unnorm_test \u001b[38;5;241m=\u001b[39m train_test_split(unnormalisedHot_df, y, test_size\u001b[38;5;241m=\u001b[39m\u001b[38;5;241m0.3\u001b[39m,random_state\u001b[38;5;241m=\u001b[39m\u001b[38;5;241m1\u001b[39m, stratify\u001b[38;5;241m=\u001b[39my)\n",
      "\u001b[1;31mNameError\u001b[0m: name 'normalisedHot_df' is not defined"
     ]
    },
    {
     "ename": "NameError",
     "evalue": "name 'normalisedHot_df' is not defined",
     "output_type": "error",
     "traceback": [
      "\u001b[1;31m---------------------------------------------------------------------------\u001b[0m",
      "\u001b[1;31mNameError\u001b[0m                                 Traceback (most recent call last)",
      "Cell \u001b[1;32mIn[8], line 1\u001b[0m\n\u001b[1;32m----> 1\u001b[0m \u001b[43mget_ipython\u001b[49m\u001b[43m(\u001b[49m\u001b[43m)\u001b[49m\u001b[38;5;241;43m.\u001b[39;49m\u001b[43mrun_line_magic\u001b[49m\u001b[43m(\u001b[49m\u001b[38;5;124;43m'\u001b[39;49m\u001b[38;5;124;43mrun\u001b[39;49m\u001b[38;5;124;43m'\u001b[39;49m\u001b[43m,\u001b[49m\u001b[43m \u001b[49m\u001b[38;5;124;43m'\u001b[39;49m\u001b[38;5;124;43mHeartDataPreprocess.ipynb\u001b[39;49m\u001b[38;5;124;43m'\u001b[39;49m\u001b[43m)\u001b[49m\n",
      "File \u001b[1;32m~\\anaconda3\\envs\\MLE\\lib\\site-packages\\IPython\\core\\interactiveshell.py:2432\u001b[0m, in \u001b[0;36mInteractiveShell.run_line_magic\u001b[1;34m(self, magic_name, line, _stack_depth)\u001b[0m\n\u001b[0;32m   2430\u001b[0m     kwargs[\u001b[38;5;124m'\u001b[39m\u001b[38;5;124mlocal_ns\u001b[39m\u001b[38;5;124m'\u001b[39m] \u001b[38;5;241m=\u001b[39m \u001b[38;5;28mself\u001b[39m\u001b[38;5;241m.\u001b[39mget_local_scope(stack_depth)\n\u001b[0;32m   2431\u001b[0m \u001b[38;5;28;01mwith\u001b[39;00m \u001b[38;5;28mself\u001b[39m\u001b[38;5;241m.\u001b[39mbuiltin_trap:\n\u001b[1;32m-> 2432\u001b[0m     result \u001b[38;5;241m=\u001b[39m fn(\u001b[38;5;241m*\u001b[39margs, \u001b[38;5;241m*\u001b[39m\u001b[38;5;241m*\u001b[39mkwargs)\n\u001b[0;32m   2434\u001b[0m \u001b[38;5;66;03m# The code below prevents the output from being displayed\u001b[39;00m\n\u001b[0;32m   2435\u001b[0m \u001b[38;5;66;03m# when using magics with decorator @output_can_be_silenced\u001b[39;00m\n\u001b[0;32m   2436\u001b[0m \u001b[38;5;66;03m# when the last Python token in the expression is a ';'.\u001b[39;00m\n\u001b[0;32m   2437\u001b[0m \u001b[38;5;28;01mif\u001b[39;00m \u001b[38;5;28mgetattr\u001b[39m(fn, magic\u001b[38;5;241m.\u001b[39mMAGIC_OUTPUT_CAN_BE_SILENCED, \u001b[38;5;28;01mFalse\u001b[39;00m):\n",
      "File \u001b[1;32m~\\anaconda3\\envs\\MLE\\lib\\site-packages\\IPython\\core\\magics\\execution.py:737\u001b[0m, in \u001b[0;36mExecutionMagics.run\u001b[1;34m(self, parameter_s, runner, file_finder)\u001b[0m\n\u001b[0;32m    735\u001b[0m     \u001b[38;5;28;01mwith\u001b[39;00m preserve_keys(\u001b[38;5;28mself\u001b[39m\u001b[38;5;241m.\u001b[39mshell\u001b[38;5;241m.\u001b[39muser_ns, \u001b[38;5;124m'\u001b[39m\u001b[38;5;124m__file__\u001b[39m\u001b[38;5;124m'\u001b[39m):\n\u001b[0;32m    736\u001b[0m         \u001b[38;5;28mself\u001b[39m\u001b[38;5;241m.\u001b[39mshell\u001b[38;5;241m.\u001b[39muser_ns[\u001b[38;5;124m'\u001b[39m\u001b[38;5;124m__file__\u001b[39m\u001b[38;5;124m'\u001b[39m] \u001b[38;5;241m=\u001b[39m filename\n\u001b[1;32m--> 737\u001b[0m         \u001b[38;5;28;43mself\u001b[39;49m\u001b[38;5;241;43m.\u001b[39;49m\u001b[43mshell\u001b[49m\u001b[38;5;241;43m.\u001b[39;49m\u001b[43msafe_execfile_ipy\u001b[49m\u001b[43m(\u001b[49m\u001b[43mfilename\u001b[49m\u001b[43m,\u001b[49m\u001b[43m \u001b[49m\u001b[43mraise_exceptions\u001b[49m\u001b[38;5;241;43m=\u001b[39;49m\u001b[38;5;28;43;01mTrue\u001b[39;49;00m\u001b[43m)\u001b[49m\n\u001b[0;32m    738\u001b[0m     \u001b[38;5;28;01mreturn\u001b[39;00m\n\u001b[0;32m    740\u001b[0m \u001b[38;5;66;03m# Control the response to exit() calls made by the script being run\u001b[39;00m\n",
      "File \u001b[1;32m~\\anaconda3\\envs\\MLE\\lib\\site-packages\\IPython\\core\\interactiveshell.py:2954\u001b[0m, in \u001b[0;36mInteractiveShell.safe_execfile_ipy\u001b[1;34m(self, fname, shell_futures, raise_exceptions)\u001b[0m\n\u001b[0;32m   2952\u001b[0m result \u001b[38;5;241m=\u001b[39m \u001b[38;5;28mself\u001b[39m\u001b[38;5;241m.\u001b[39mrun_cell(cell, silent\u001b[38;5;241m=\u001b[39m\u001b[38;5;28;01mTrue\u001b[39;00m, shell_futures\u001b[38;5;241m=\u001b[39mshell_futures)\n\u001b[0;32m   2953\u001b[0m \u001b[38;5;28;01mif\u001b[39;00m raise_exceptions:\n\u001b[1;32m-> 2954\u001b[0m     \u001b[43mresult\u001b[49m\u001b[38;5;241;43m.\u001b[39;49m\u001b[43mraise_error\u001b[49m\u001b[43m(\u001b[49m\u001b[43m)\u001b[49m\n\u001b[0;32m   2955\u001b[0m \u001b[38;5;28;01melif\u001b[39;00m \u001b[38;5;129;01mnot\u001b[39;00m result\u001b[38;5;241m.\u001b[39msuccess:\n\u001b[0;32m   2956\u001b[0m     \u001b[38;5;28;01mbreak\u001b[39;00m\n",
      "File \u001b[1;32m~\\anaconda3\\envs\\MLE\\lib\\site-packages\\IPython\\core\\interactiveshell.py:270\u001b[0m, in \u001b[0;36mExecutionResult.raise_error\u001b[1;34m(self)\u001b[0m\n\u001b[0;32m    268\u001b[0m     \u001b[38;5;28;01mraise\u001b[39;00m \u001b[38;5;28mself\u001b[39m\u001b[38;5;241m.\u001b[39merror_before_exec\n\u001b[0;32m    269\u001b[0m \u001b[38;5;28;01mif\u001b[39;00m \u001b[38;5;28mself\u001b[39m\u001b[38;5;241m.\u001b[39merror_in_exec \u001b[38;5;129;01mis\u001b[39;00m \u001b[38;5;129;01mnot\u001b[39;00m \u001b[38;5;28;01mNone\u001b[39;00m:\n\u001b[1;32m--> 270\u001b[0m     \u001b[38;5;28;01mraise\u001b[39;00m \u001b[38;5;28mself\u001b[39m\u001b[38;5;241m.\u001b[39merror_in_exec\n",
      "    \u001b[1;31m[... skipping hidden 1 frame]\u001b[0m\n",
      "File \u001b[1;32m~\\AppData\\Local\\Temp\\ipykernel_54764\\3363856332.py:4\u001b[0m\n\u001b[0;32m      1\u001b[0m \u001b[38;5;66;03m#Dividing Data into training and test sets \u001b[39;00m\n\u001b[1;32m----> 4\u001b[0m normalisedHot_df_train, normalisedHot_df_test, y_norm_train, y_norm_test \u001b[38;5;241m=\u001b[39m train_test_split(\u001b[43mnormalisedHot_df\u001b[49m, y, test_size\u001b[38;5;241m=\u001b[39m\u001b[38;5;241m0.3\u001b[39m,random_state\u001b[38;5;241m=\u001b[39m\u001b[38;5;241m1\u001b[39m, stratify\u001b[38;5;241m=\u001b[39my)\n\u001b[0;32m      5\u001b[0m unnormalisedHot_df_train, unnormalisedHot_df_test, y_unnorm_train, y_unnorm_test \u001b[38;5;241m=\u001b[39m train_test_split(unnormalisedHot_df, y, test_size\u001b[38;5;241m=\u001b[39m\u001b[38;5;241m0.3\u001b[39m,random_state\u001b[38;5;241m=\u001b[39m\u001b[38;5;241m1\u001b[39m, stratify\u001b[38;5;241m=\u001b[39my)\n",
      "\u001b[1;31mNameError\u001b[0m: name 'normalisedHot_df' is not defined"
     ]
    }
   ],
   "source": [
    "%run HeartDataPreprocess.ipynb"
   ]
  },
  {
   "cell_type": "code",
   "execution_count": 9,
   "metadata": {},
   "outputs": [
    {
     "data": {
      "text/plain": [
       "array([[ 63., 145., 233., ...,   0.,   0.,   0.],\n",
       "       [ 67., 160., 286., ...,   0.,   0.,   0.],\n",
       "       [ 67., 120., 229., ...,   0.,   0.,   0.],\n",
       "       ...,\n",
       "       [ 55., 122., 223., ...,   0.,   0.,   1.],\n",
       "       [ 58.,   0., 385., ...,   0.,   0.,   1.],\n",
       "       [ 62., 120., 254., ...,   0.,   0.,   1.]])"
      ]
     },
     "execution_count": 9,
     "metadata": {},
     "output_type": "execute_result"
    }
   ],
   "source": [
    "normalisedHot_data"
   ]
  },
  {
   "cell_type": "code",
   "execution_count": 10,
   "metadata": {},
   "outputs": [
    {
     "name": "stdout",
     "output_type": "stream",
     "text": [
      "       0      1      2      3    4    5    6    7    8    9   ...   25   26  \\\n",
      "0    63.0  145.0  233.0  150.0  2.3  0.0  1.0  1.0  0.0  0.0  ...  0.0  0.0   \n",
      "1    67.0  160.0  286.0  108.0  1.5  0.0  1.0  0.0  0.0  0.0  ...  1.0  0.0   \n",
      "2    67.0  120.0  229.0  129.0  2.6  0.0  1.0  0.0  0.0  0.0  ...  0.0  0.0   \n",
      "3    37.0  130.0  250.0  187.0  3.5  0.0  1.0  0.0  0.0  1.0  ...  0.0  0.0   \n",
      "4    41.0  130.0  204.0  172.0  1.4  1.0  0.0  0.0  1.0  0.0  ...  0.0  0.0   \n",
      "..    ...    ...    ...    ...  ...  ...  ...  ...  ...  ...  ...  ...  ...   \n",
      "915  54.0  127.0  333.0  154.0  0.0  1.0  0.0  0.0  0.0  0.0  ...  0.0  0.0   \n",
      "916  62.0    0.0  139.0    0.0  0.0  0.0  1.0  1.0  0.0  0.0  ...  0.0  0.0   \n",
      "917  55.0  122.0  223.0  100.0  0.0  0.0  1.0  0.0  0.0  0.0  ...  0.0  0.0   \n",
      "918  58.0    0.0  385.0    0.0  0.0  0.0  1.0  0.0  0.0  0.0  ...  0.0  0.0   \n",
      "919  62.0  120.0  254.0   93.0  0.0  0.0  1.0  0.0  1.0  0.0  ...  0.0  0.0   \n",
      "\n",
      "      27   28   29   30   31   32   33   34  \n",
      "0    0.0  0.0  1.0  0.0  1.0  0.0  0.0  0.0  \n",
      "1    0.0  1.0  0.0  0.0  1.0  0.0  0.0  0.0  \n",
      "2    0.0  0.0  0.0  1.0  1.0  0.0  0.0  0.0  \n",
      "3    0.0  1.0  0.0  0.0  1.0  0.0  0.0  0.0  \n",
      "4    0.0  1.0  0.0  0.0  1.0  0.0  0.0  0.0  \n",
      "..   ...  ...  ...  ...  ...  ...  ...  ...  \n",
      "915  1.0  0.0  0.0  0.0  0.0  0.0  0.0  1.0  \n",
      "916  1.0  0.0  0.0  0.0  0.0  0.0  0.0  1.0  \n",
      "917  0.0  0.0  1.0  0.0  0.0  0.0  0.0  1.0  \n",
      "918  1.0  0.0  0.0  0.0  0.0  0.0  0.0  1.0  \n",
      "919  1.0  0.0  0.0  0.0  0.0  0.0  0.0  1.0  \n",
      "\n",
      "[920 rows x 35 columns]\n"
     ]
    }
   ],
   "source": [
    "data_frame = pd.DataFrame(normalisedHot_data)\n",
    "print(data_frame)"
   ]
  },
  {
   "cell_type": "code",
   "execution_count": 12,
   "metadata": {},
   "outputs": [
    {
     "name": "stdout",
     "output_type": "stream",
     "text": [
      "Depth = 2, train_score = 0.5244565217391305, test_score = 0.4673913043478261\n",
      "Depth = 4, train_score = 0.5828804347826086, test_score = 0.40217391304347827\n",
      "Depth = 6, train_score = 0.6684782608695652, test_score = 0.44021739130434784\n",
      "Depth = 8, train_score = 0.7744565217391305, test_score = 0.44565217391304346\n",
      "Depth = 10, train_score = 0.8654891304347826, test_score = 0.47282608695652173\n",
      "Depth = 12, train_score = 0.9320652173913043, test_score = 0.45652173913043476\n",
      "Depth = 14, train_score = 0.9796195652173914, test_score = 0.4673913043478261\n",
      "Depth = 16, train_score = 0.9972826086956522, test_score = 0.4945652173913043\n",
      "Depth = 18, train_score = 1.0, test_score = 0.5054347826086957\n",
      "Depth = 20, train_score = 1.0, test_score = 0.47282608695652173\n",
      "Depth = 22, train_score = 1.0, test_score = 0.4945652173913043\n",
      "Depth = 24, train_score = 1.0, test_score = 0.47282608695652173\n",
      "Depth = 26, train_score = 1.0, test_score = 0.47282608695652173\n",
      "Depth = 28, train_score = 1.0, test_score = 0.5054347826086957\n",
      "Depth = 30, train_score = 1.0, test_score = 0.47282608695652173\n",
      "Depth = 32, train_score = 1.0, test_score = 0.4891304347826087\n",
      "Depth = 34, train_score = 1.0, test_score = 0.5\n",
      "Depth = 36, train_score = 1.0, test_score = 0.4673913043478261\n",
      "Depth = 38, train_score = 1.0, test_score = 0.45108695652173914\n",
      "Depth = 40, train_score = 1.0, test_score = 0.5\n",
      "Depth = 42, train_score = 1.0, test_score = 0.47282608695652173\n",
      "Depth = 44, train_score = 1.0, test_score = 0.483695652173913\n",
      "Depth = 46, train_score = 1.0, test_score = 0.483695652173913\n",
      "Depth = 48, train_score = 1.0, test_score = 0.5\n",
      "Depth = 50, train_score = 1.0, test_score = 0.4782608695652174\n",
      "Depth = 52, train_score = 1.0, test_score = 0.46195652173913043\n",
      "Depth = 54, train_score = 1.0, test_score = 0.4782608695652174\n",
      "Depth = 56, train_score = 1.0, test_score = 0.47282608695652173\n",
      "Depth = 58, train_score = 1.0, test_score = 0.483695652173913\n",
      "Depth = 60, train_score = 1.0, test_score = 0.4891304347826087\n",
      "Depth = 62, train_score = 1.0, test_score = 0.4891304347826087\n",
      "Depth = 64, train_score = 1.0, test_score = 0.4891304347826087\n",
      "Depth = 66, train_score = 1.0, test_score = 0.483695652173913\n",
      "Depth = 68, train_score = 1.0, test_score = 0.44565217391304346\n",
      "Depth = 70, train_score = 1.0, test_score = 0.483695652173913\n",
      "Depth = 72, train_score = 1.0, test_score = 0.5054347826086957\n",
      "Depth = 74, train_score = 1.0, test_score = 0.5\n",
      "Depth = 76, train_score = 1.0, test_score = 0.4945652173913043\n",
      "Depth = 78, train_score = 1.0, test_score = 0.4891304347826087\n",
      "Depth = 80, train_score = 1.0, test_score = 0.5054347826086957\n"
     ]
    }
   ],
   "source": [
    "from sklearn.model_selection import train_test_split\n",
    "from sklearn.compose import ColumnTransformer\n",
    "from sklearn.preprocessing import OrdinalEncoder, StandardScaler\n",
    "from sklearn.tree import DecisionTreeClassifier\n",
    "from sklearn.tree import DecisionTreeRegressor\n",
    "from sklearn.pipeline import Pipeline\n",
    "#import matplotlib.pyplot as plt\n",
    "#from sklearn.tree import plot_tree\n",
    "\n",
    "y_r = imputedData[\"num\"]\n",
    "raw_df_r = data_frame\n",
    "\n",
    "X_train, X_test, y_train, y_test = train_test_split(raw_df_r, y_r, test_size=0.2, random_state=42)\n",
    "\n",
    "\n",
    "#for depth in list(range(10, 101, 10)):\n",
    "for depth in list(range(2, 81, 2)):\n",
    "    tree_cl = DecisionTreeClassifier(max_depth=depth)\n",
    "    \n",
    "    tree_cl.fit(X_train, y_train)\n",
    "    \n",
    "    train_score = tree_cl.score(X_train, y_train)  \n",
    "    test_score = tree_cl.score(X_test, y_test)  \n",
    "    print(f'Depth = {depth}, train_score = {train_score}, test_score = {test_score}')\n",
    "\n",
    "tree = tree_cl.tree_"
   ]
  },
  {
   "cell_type": "code",
   "execution_count": 15,
   "metadata": {},
   "outputs": [
    {
     "name": "stdout",
     "output_type": "stream",
     "text": [
      "0.44565217391304346\n"
     ]
    }
   ],
   "source": [
    "from sklearn.model_selection import KFold\n",
    "from sklearn.model_selection import cross_val_score\n",
    "kf = KFold(n_splits=5, shuffle=True)\n",
    "decision_tree = DecisionTreeClassifier(max_depth=16)\n",
    "scores = cross_val_score(decision_tree, raw_df_r, y_r, cv=kf)\n",
    "print(np.mean(scores))"
   ]
  },
  {
   "cell_type": "code",
   "execution_count": 14,
   "metadata": {},
   "outputs": [
    {
     "ename": "NameError",
     "evalue": "name 'pipeline' is not defined",
     "output_type": "error",
     "traceback": [
      "\u001b[1;31m---------------------------------------------------------------------------\u001b[0m",
      "\u001b[1;31mNameError\u001b[0m                                 Traceback (most recent call last)",
      "Cell \u001b[1;32mIn[14], line 2\u001b[0m\n\u001b[0;32m      1\u001b[0m \u001b[38;5;66;03m# Get the names of features after preprocessing\u001b[39;00m\n\u001b[1;32m----> 2\u001b[0m feature_names \u001b[38;5;241m=\u001b[39m \u001b[43mpipeline\u001b[49m\u001b[38;5;241m.\u001b[39mnamed_steps[\u001b[38;5;124m'\u001b[39m\u001b[38;5;124mpreprocessor\u001b[39m\u001b[38;5;124m'\u001b[39m]\u001b[38;5;241m.\u001b[39mget_feature_names_out()\n\u001b[0;32m      4\u001b[0m \u001b[38;5;66;03m# Print branch information with original feature names\u001b[39;00m\n\u001b[0;32m      5\u001b[0m \u001b[38;5;28;01mfor\u001b[39;00m node_id \u001b[38;5;129;01min\u001b[39;00m \u001b[38;5;28mrange\u001b[39m(tree\u001b[38;5;241m.\u001b[39mnode_count):\n",
      "\u001b[1;31mNameError\u001b[0m: name 'pipeline' is not defined"
     ]
    }
   ],
   "source": [
    "# Get the names of features after preprocessing\n",
    "feature_names = pipeline.named_steps['preprocessor'].get_feature_names_out()\n",
    "\n",
    "# Print branch information with original feature names\n",
    "for node_id in range(tree.node_count):\n",
    "    if tree.children_left[node_id] != tree.children_right[node_id]:  # split node\n",
    "        feature_index = tree.feature[node_id]\n",
    "        print(f\"Node {node_id}:\")\n",
    "        print(f\" - Split feature: {feature_names[feature_index]}\")  # feature name\n",
    "        print(f\" - Threshold: {tree.threshold[node_id]}\")\n",
    "        print(f\" - Left child: {tree.children_left[node_id]}\")\n",
    "        print(f\" - Right child: {tree.children_right[node_id]}\")\n",
    "    else:  # leaf node\n",
    "        print(f\"Leaf Node {node_id}:\")\n",
    "        print(f\" - Value: {tree.value[node_id]}\")"
   ]
  },
  {
   "cell_type": "code",
   "execution_count": null,
   "metadata": {},
   "outputs": [],
   "source": []
  }
 ],
 "metadata": {
  "colab": {
   "authorship_tag": "ABX9TyN/H8mta3Rr6JzhC6FpzKc3",
   "mount_file_id": "1O6-89A5F_EpKEBuP9Spxrt5ojylNVuyN",
   "provenance": []
  },
  "kernelspec": {
   "display_name": "Python 3 (ipykernel)",
   "language": "python",
   "name": "python3"
  },
  "language_info": {
   "codemirror_mode": {
    "name": "ipython",
    "version": 3
   },
   "file_extension": ".py",
   "mimetype": "text/x-python",
   "name": "python",
   "nbconvert_exporter": "python",
   "pygments_lexer": "ipython3",
   "version": "3.9.15"
  }
 },
 "nbformat": 4,
 "nbformat_minor": 4
}
