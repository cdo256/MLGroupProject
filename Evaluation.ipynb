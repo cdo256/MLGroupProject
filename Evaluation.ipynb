{
 "cells": [
  {
   "cell_type": "code",
   "execution_count": 8,
   "id": "d79837a4-ef69-4ae5-b37e-65a0bbafc01a",
   "metadata": {},
   "outputs": [],
   "source": [
    "import time\n",
    "from sklearn.model_selection import cross_val_score\n",
    "from sklearn.model_selection import KFold\n",
    "\n",
    "n_folds = 5\n",
    "test_size = 0.3\n",
    "\n",
    "def evaluate_model(model, X, y, kind='Classification'):\n",
    "    print()\n",
    "    print(f'Model: {model}')\n",
    "\n",
    "    start_time = time.time()    \n",
    "    # Plain test-train split:\n",
    "    if kind == 'Classification':\n",
    "        X_train, X_test, y_train, y_test = train_test_split(X, y, test_size=test_size, stratify=y)\n",
    "    else:\n",
    "        X_train, X_test, y_train, y_test = train_test_split(X, y, test_size=test_size)\n",
    "    model.fit(X_train, y_train)\n",
    "    train_time = time.time()\n",
    "    print('Training score:\\t{:03.3f}'.format(model.score(X_train, y_train)))\n",
    "    print('Testing score:\\t{:03.3f}'.format(model.score(X_test, y_test)))\n",
    "    print('Training time:\\t{:03.3f}s'.format(train_time - start_time))\n",
    "\n",
    "    kf = KFold(n_splits=n_folds, shuffle=True)\n",
    "    before_cv_time = time.time()\n",
    "    scores = cross_val_score(model, normalisedHot_data,y, cv=kf)\n",
    "    after_cv_time = time.time()\n",
    "    \n",
    "    avg = (100 * np.mean(scores), 100 * np.std(scores) / np.sqrt(scores.shape[0]))\n",
    "    print(\"Average score:\\t(%.2f +- %.3f)%%\" %avg)\n",
    "    print('Cross-validation time:\\t{:03.3f}s'.format(after_cv_time - before_cv_time))"
   ]
  }
 ],
 "metadata": {
  "kernelspec": {
   "display_name": "Python 3 (ipykernel)",
   "language": "python",
   "name": "python3"
  },
  "language_info": {
   "codemirror_mode": {
    "name": "ipython",
    "version": 3
   },
   "file_extension": ".py",
   "mimetype": "text/x-python",
   "name": "python",
   "nbconvert_exporter": "python",
   "pygments_lexer": "ipython3",
   "version": "3.12.6"
  }
 },
 "nbformat": 4,
 "nbformat_minor": 5
}
