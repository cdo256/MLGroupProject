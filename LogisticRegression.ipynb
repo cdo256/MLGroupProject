{
 "cells": [
  {
   "cell_type": "code",
   "execution_count": 9,
   "metadata": {
    "vscode": {
     "languageId": "plaintext"
    }
   },
   "outputs": [],
   "source": [
    "%run HeartDataPreprocess.ipynb"
   ]
  },
  {
   "cell_type": "code",
   "execution_count": 13,
   "metadata": {},
   "outputs": [],
   "source": [
    "X = normalisedHot_data"
   ]
  },
  {
   "cell_type": "code",
   "execution_count": 18,
   "metadata": {},
   "outputs": [
    {
     "name": "stdout",
     "output_type": "stream",
     "text": [
      "[0.52173913 0.44565217 0.60869565 0.54891304 0.33695652]\n",
      "Average score and standard deviation: (49.24 +- 4.192)%\n"
     ]
    }
   ],
   "source": [
    "from sklearn.linear_model import LogisticRegression\n",
    "from sklearn.model_selection import cross_val_score\n",
    "log_reg = LogisticRegression()\n",
    "scores = cross_val_score(log_reg, X, y, cv=5)\n",
    "print(scores)\n",
    "avg = (100 * np.mean(scores), 100 * np.std(scores)/np.sqrt(scores.shape[0]))\n",
    "print(\"Average score and standard deviation: (%.2f +- %.3f)%%\" %avg)"
   ]
  }
 ],
 "metadata": {
  "kernelspec": {
   "display_name": "Python 3 (ipykernel)",
   "language": "python",
   "name": "python3"
  },
  "language_info": {
   "codemirror_mode": {
    "name": "ipython",
    "version": 3
   },
   "file_extension": ".py",
   "mimetype": "text/x-python",
   "name": "python",
   "nbconvert_exporter": "python",
   "pygments_lexer": "ipython3",
   "version": "3.12.6"
  }
 },
 "nbformat": 4,
 "nbformat_minor": 4
}
