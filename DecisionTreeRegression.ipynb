{
 "cells": [
  {
   "cell_type": "code",
   "execution_count": 1,
   "metadata": {
    "colab": {
     "base_uri": "https://localhost:8080/"
    },
    "executionInfo": {
     "elapsed": 2198,
     "status": "ok",
     "timestamp": 1729849657760,
     "user": {
      "displayName": "Christina O'Donnell",
      "userId": "02520222635535242469"
     },
     "user_tz": -60
    },
    "id": "_yiKd_jcDSow",
    "outputId": "52f4ce37-2e54-4062-e328-fe66b22f2c52"
   },
   "outputs": [],
   "source": [
    "%run BankPreprocess.ipynb\n",
    "%run Evaluation.ipynb"
   ]
  },
  {
   "cell_type": "code",
   "execution_count": 2,
   "metadata": {},
   "outputs": [],
   "source": [
    "from sklearn.model_selection import train_test_split\n",
    "from sklearn.tree import DecisionTreeRegressor"
   ]
  },
  {
   "cell_type": "code",
   "execution_count": 3,
   "metadata": {},
   "outputs": [
    {
     "data": {
      "text/plain": [
       "'\\n#depths = [1,2,3,4,5,8,9,10,11,12,15,17,20,24,28,32]\\ndepths = [9]\\nX_train, X_test, y_train, y_test = train_test_split(X_hot, y, test_size=0.2, random_state=42)\\n\\nfor depth in depths:\\n    tree_reg = DecisionTreeRegressor(max_depth=depth)\\n    tree_reg.fit(X_train, y_train)\\n    train_score = tree_reg.score(X_train, y_train)  # Use the pipeline directly\\n    test_score = tree_reg.score(X_test, y_test)  # Use the pipeline directly\\n    print(f\\'Depth = {depth}, train_score = {train_score}, test_score = {test_score}\\')\\n\\ntree = tree_reg.tree_\\n\\n# Plot the decision tree\\n#plt.figure(figsize=(12, 8))  # You can adjust the figure size\\n#plot_tree(tree_reg, filled=True)\\n#plt.title(\"Decision Tree Visualization\")\\n#plt.show()\\n'"
      ]
     },
     "execution_count": 3,
     "metadata": {},
     "output_type": "execute_result"
    }
   ],
   "source": [
    "#Initial Implimentation of decision tree\n",
    "'''\n",
    "#depths = [1,2,3,4,5,8,9,10,11,12,15,17,20,24,28,32]\n",
    "depths = [9]\n",
    "X_train, X_test, y_train, y_test = train_test_split(X_hot, y, test_size=0.2, random_state=42)\n",
    "\n",
    "for depth in depths:\n",
    "    tree_reg = DecisionTreeRegressor(max_depth=depth)\n",
    "    tree_reg.fit(X_train, y_train)\n",
    "    train_score = tree_reg.score(X_train, y_train)  # Use the pipeline directly\n",
    "    test_score = tree_reg.score(X_test, y_test)  # Use the pipeline directly\n",
    "    print(f'Depth = {depth}, train_score = {train_score}, test_score = {test_score}')\n",
    "\n",
    "tree = tree_reg.tree_\n",
    "\n",
    "# Plot the decision tree\n",
    "#plt.figure(figsize=(12, 8))  # You can adjust the figure size\n",
    "#plot_tree(tree_reg, filled=True)\n",
    "#plt.title(\"Decision Tree Visualization\")\n",
    "#plt.show()\n",
    "'''"
   ]
  },
  {
   "cell_type": "code",
   "execution_count": 4,
   "metadata": {},
   "outputs": [
    {
     "data": {
      "text/plain": [
       "'\\nfrom sklearn.model_selection import KFold\\nfrom sklearn.model_selection import cross_val_score\\nkf = KFold(n_splits=5, shuffle=True)\\ndecision_tree = DecisionTreeRegressor(max_depth=9)\\nscores = cross_val_score(decision_tree, X_hot, y, cv=kf)\\nprint(np.mean(scores))\\n'"
      ]
     },
     "execution_count": 4,
     "metadata": {},
     "output_type": "execute_result"
    }
   ],
   "source": [
    "#Initial Implimentation of Kfold on decision tree regression model\n",
    "'''\n",
    "from sklearn.model_selection import KFold\n",
    "from sklearn.model_selection import cross_val_score\n",
    "kf = KFold(n_splits=5, shuffle=True)\n",
    "decision_tree = DecisionTreeRegressor(max_depth=9)\n",
    "scores = cross_val_score(decision_tree, X_hot, y, cv=kf)\n",
    "print(np.mean(scores))\n",
    "'''"
   ]
  },
  {
   "cell_type": "code",
   "execution_count": 5,
   "metadata": {},
   "outputs": [
    {
     "name": "stdout",
     "output_type": "stream",
     "text": [
      "\n",
      "Model: DecisionTreeRegressor(max_depth=9)\n",
      "Training score:\t0.459\n",
      "Testing score:\t0.420\n",
      "Training time:\t0.549s\n",
      "Average score:\t(41.81 +- 0.414)%\n",
      "Cross-validation time:\t3.882s\n"
     ]
    }
   ],
   "source": [
    "#Evaluating the decision tree regressor\n",
    "decision_tree = DecisionTreeRegressor(max_depth=9)\n",
    "evaluate_model(decision_tree, X_hot, y, kind='Regression')"
   ]
  },
  {
   "cell_type": "code",
   "execution_count": 6,
   "metadata": {},
   "outputs": [],
   "source": [
    "# Print branch information (for debugging)\n",
    "#feature_names = X_hot.columns\n",
    "#for node_id in range(tree.node_count):\n",
    "#    if tree.children_left[node_id] != tree.children_right[node_id]:  # split node\n",
    "#        feature_index = tree.feature[node_id]\n",
    "#        print(f\"Node {node_id}:\")\n",
    "#        print(f\" - Split feature: {feature_names[feature_index]}\")  # feature name\n",
    "#        print(f\" - Threshold: {tree.threshold[node_id]}\")\n",
    "#        print(f\" - Left child: {tree.children_left[node_id]}\")\n",
    "#        print(f\" - Right child: {tree.children_right[node_id]}\")\n",
    "#    else:  # leaf node\n",
    "#        print(f\"Leaf Node {node_id}:\")\n",
    "#        print(f\" - Value: {tree.value[node_id]}\")"
   ]
  },
  {
   "cell_type": "code",
   "execution_count": null,
   "metadata": {},
   "outputs": [],
   "source": []
  }
 ],
 "metadata": {
  "colab": {
   "authorship_tag": "ABX9TyN/H8mta3Rr6JzhC6FpzKc3",
   "mount_file_id": "1O6-89A5F_EpKEBuP9Spxrt5ojylNVuyN",
   "provenance": []
  },
  "kernelspec": {
   "display_name": "Python 3 (ipykernel)",
   "language": "python",
   "name": "python3"
  },
  "language_info": {
   "codemirror_mode": {
    "name": "ipython",
    "version": 3
   },
   "file_extension": ".py",
   "mimetype": "text/x-python",
   "name": "python",
   "nbconvert_exporter": "python",
   "pygments_lexer": "ipython3",
   "version": "3.12.6"
  }
 },
 "nbformat": 4,
 "nbformat_minor": 4
}
