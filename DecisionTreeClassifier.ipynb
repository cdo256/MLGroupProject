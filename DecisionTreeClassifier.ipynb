{
 "cells": [
  {
   "cell_type": "code",
   "execution_count": 1,
   "metadata": {
    "scrolled": true
   },
   "outputs": [],
   "source": [
    "%run HeartDataPreprocess.ipynb\n",
    "%run Evaluation.ipynb"
   ]
  },
  {
   "cell_type": "code",
   "execution_count": 2,
   "metadata": {},
   "outputs": [
    {
     "data": {
      "text/plain": [
       "array([[ 1.00738556,  0.57290177,  0.3525227 , ...,  0.        ,\n",
       "         0.        ,  0.        ],\n",
       "       [ 1.43203377,  0.97557288,  0.81541403, ...,  0.        ,\n",
       "         0.        ,  0.        ],\n",
       "       [ 1.43203377, -0.09821673,  0.3175875 , ...,  0.        ,\n",
       "         0.        ,  0.        ],\n",
       "       ...,\n",
       "       [ 0.15808914, -0.04452725,  0.26518471, ...,  0.        ,\n",
       "         0.        ,  1.        ],\n",
       "       [ 0.4765753 , -3.31958558,  1.6800601 , ...,  0.        ,\n",
       "         0.        ,  1.        ],\n",
       "       [ 0.90122351, -0.09821673,  0.53593247, ...,  0.        ,\n",
       "         0.        ,  1.        ]])"
      ]
     },
     "execution_count": 2,
     "metadata": {},
     "output_type": "execute_result"
    }
   ],
   "source": [
    "normalisedHot_data"
   ]
  },
  {
   "cell_type": "code",
   "execution_count": 3,
   "metadata": {
    "scrolled": true
   },
   "outputs": [
    {
     "name": "stdout",
     "output_type": "stream",
     "text": [
      "           0         1         2         3         4    5    6    7    8   \\\n",
      "0    1.007386  0.572902  0.352523  0.502285  1.375873  0.0  1.0  1.0  0.0   \n",
      "1    1.432034  0.975573  0.815414 -0.517969  0.632376  0.0  1.0  0.0  0.0   \n",
      "2    1.432034 -0.098217  0.317588 -0.007842  1.654684  0.0  1.0  0.0  0.0   \n",
      "3   -1.752828  0.170231  0.500997  1.401080  2.491118  0.0  1.0  0.0  0.0   \n",
      "4   -1.328180  0.170231  0.099243  1.036704  0.539439  1.0  0.0  0.0  1.0   \n",
      "..        ...       ...       ...       ...       ...  ...  ...  ...  ...   \n",
      "915  0.051927  0.089696  1.225903  0.599452 -0.761680  1.0  0.0  0.0  0.0   \n",
      "916  0.901224 -3.319586 -0.468454 -3.141479 -0.761680  0.0  1.0  1.0  0.0   \n",
      "917  0.158089 -0.044527  0.265185 -0.712303 -0.761680  0.0  1.0  0.0  0.0   \n",
      "918  0.476575 -3.319586  1.680060 -3.141479 -0.761680  0.0  1.0  0.0  0.0   \n",
      "919  0.901224 -0.098217  0.535932 -0.882345 -0.761680  0.0  1.0  0.0  1.0   \n",
      "\n",
      "      9   ...   25   26   27   28   29   30   31   32   33   34  \n",
      "0    0.0  ...  0.0  0.0  0.0  0.0  1.0  0.0  1.0  0.0  0.0  0.0  \n",
      "1    0.0  ...  1.0  0.0  0.0  1.0  0.0  0.0  1.0  0.0  0.0  0.0  \n",
      "2    0.0  ...  0.0  0.0  0.0  0.0  0.0  1.0  1.0  0.0  0.0  0.0  \n",
      "3    1.0  ...  0.0  0.0  0.0  1.0  0.0  0.0  1.0  0.0  0.0  0.0  \n",
      "4    0.0  ...  0.0  0.0  0.0  1.0  0.0  0.0  1.0  0.0  0.0  0.0  \n",
      "..   ...  ...  ...  ...  ...  ...  ...  ...  ...  ...  ...  ...  \n",
      "915  0.0  ...  0.0  0.0  1.0  0.0  0.0  0.0  0.0  0.0  0.0  1.0  \n",
      "916  0.0  ...  0.0  0.0  1.0  0.0  0.0  0.0  0.0  0.0  0.0  1.0  \n",
      "917  0.0  ...  0.0  0.0  0.0  0.0  1.0  0.0  0.0  0.0  0.0  1.0  \n",
      "918  0.0  ...  0.0  0.0  1.0  0.0  0.0  0.0  0.0  0.0  0.0  1.0  \n",
      "919  0.0  ...  0.0  0.0  1.0  0.0  0.0  0.0  0.0  0.0  0.0  1.0  \n",
      "\n",
      "[920 rows x 35 columns]\n"
     ]
    }
   ],
   "source": [
    "data_frame = pd.DataFrame(normalisedHot_data)\n",
    "print(data_frame)"
   ]
  },
  {
   "cell_type": "code",
   "execution_count": 4,
   "metadata": {
    "scrolled": true
   },
   "outputs": [
    {
     "name": "stdout",
     "output_type": "stream",
     "text": [
      "Depth = 2, train_score = 0.5244565217391305, test_score = 0.4673913043478261\n",
      "Depth = 4, train_score = 0.5828804347826086, test_score = 0.40217391304347827\n",
      "Depth = 6, train_score = 0.6684782608695652, test_score = 0.44021739130434784\n",
      "Depth = 8, train_score = 0.7744565217391305, test_score = 0.45108695652173914\n",
      "Depth = 10, train_score = 0.8641304347826086, test_score = 0.4782608695652174\n",
      "Depth = 12, train_score = 0.9320652173913043, test_score = 0.4782608695652174\n",
      "Depth = 14, train_score = 0.9796195652173914, test_score = 0.47282608695652173\n",
      "Depth = 16, train_score = 0.9972826086956522, test_score = 0.483695652173913\n",
      "Depth = 18, train_score = 1.0, test_score = 0.483695652173913\n",
      "Depth = 20, train_score = 1.0, test_score = 0.4891304347826087\n",
      "Depth = 22, train_score = 1.0, test_score = 0.4782608695652174\n",
      "Depth = 24, train_score = 1.0, test_score = 0.4782608695652174\n",
      "Depth = 26, train_score = 1.0, test_score = 0.5054347826086957\n",
      "Depth = 28, train_score = 1.0, test_score = 0.4891304347826087\n",
      "Depth = 30, train_score = 1.0, test_score = 0.4945652173913043\n",
      "Depth = 32, train_score = 1.0, test_score = 0.4891304347826087\n",
      "Depth = 34, train_score = 1.0, test_score = 0.4945652173913043\n",
      "Depth = 36, train_score = 1.0, test_score = 0.5054347826086957\n",
      "Depth = 38, train_score = 1.0, test_score = 0.4782608695652174\n",
      "Depth = 40, train_score = 1.0, test_score = 0.483695652173913\n",
      "Depth = 42, train_score = 1.0, test_score = 0.483695652173913\n",
      "Depth = 44, train_score = 1.0, test_score = 0.47282608695652173\n",
      "Depth = 46, train_score = 1.0, test_score = 0.4891304347826087\n",
      "Depth = 48, train_score = 1.0, test_score = 0.5\n",
      "Depth = 50, train_score = 1.0, test_score = 0.5054347826086957\n",
      "Depth = 52, train_score = 1.0, test_score = 0.5\n",
      "Depth = 54, train_score = 1.0, test_score = 0.47282608695652173\n",
      "Depth = 56, train_score = 1.0, test_score = 0.4782608695652174\n",
      "Depth = 58, train_score = 1.0, test_score = 0.4673913043478261\n",
      "Depth = 60, train_score = 1.0, test_score = 0.4891304347826087\n",
      "Depth = 62, train_score = 1.0, test_score = 0.4945652173913043\n",
      "Depth = 64, train_score = 1.0, test_score = 0.47282608695652173\n",
      "Depth = 66, train_score = 1.0, test_score = 0.4891304347826087\n",
      "Depth = 68, train_score = 1.0, test_score = 0.47282608695652173\n",
      "Depth = 70, train_score = 1.0, test_score = 0.483695652173913\n",
      "Depth = 72, train_score = 1.0, test_score = 0.483695652173913\n",
      "Depth = 74, train_score = 1.0, test_score = 0.47282608695652173\n",
      "Depth = 76, train_score = 1.0, test_score = 0.46195652173913043\n",
      "Depth = 78, train_score = 1.0, test_score = 0.4891304347826087\n",
      "Depth = 80, train_score = 1.0, test_score = 0.4782608695652174\n"
     ]
    }
   ],
   "source": [
    "from sklearn.model_selection import train_test_split\n",
    "from sklearn.compose import ColumnTransformer\n",
    "from sklearn.preprocessing import OrdinalEncoder, StandardScaler\n",
    "from sklearn.tree import DecisionTreeClassifier\n",
    "from sklearn.tree import DecisionTreeRegressor\n",
    "\n",
    "y_r = imputedData[\"num\"]\n",
    "raw_df_r = data_frame\n",
    "\n",
    "X_train, X_test, y_train, y_test = train_test_split(raw_df_r, y_r, test_size=0.2, random_state=42)\n",
    "#for depth in list(range(10, 101, 10)):\n",
    "for depth in list(range(2, 81, 2)):\n",
    "    tree_cl = DecisionTreeClassifier(max_depth=depth)\n",
    "    \n",
    "    tree_cl.fit(X_train, y_train)\n",
    "    \n",
    "    train_score = tree_cl.score(X_train, y_train)  \n",
    "    test_score = tree_cl.score(X_test, y_test)  \n",
    "    print(f'Depth = {depth}, train_score = {train_score}, test_score = {test_score}')\n",
    "\n",
    "tree = tree_cl.tree_"
   ]
  },
  {
   "cell_type": "code",
   "execution_count": 5,
   "metadata": {},
   "outputs": [
    {
     "name": "stdout",
     "output_type": "stream",
     "text": [
      "\n",
      "Model: DecisionTreeClassifier(max_depth=12)\n",
      "Training score:\t0.913\n",
      "Testing score:\t0.467\n",
      "Training time:\t0.020s\n",
      "Average score:\t(46.52 +- 1.653)%\n",
      "Cross-validation time:\t0.131s\n"
     ]
    }
   ],
   "source": [
    "#from sklearn.model_selection import KFold\n",
    "#from sklearn.model_selection import cross_val_score\n",
    "#kf = KFold(n_splits=5, shuffle=True)\n",
    "decision_tree = DecisionTreeClassifier(max_depth=12)\n",
    "#scores = cross_val_score(decision_tree, raw_df_r, y_r, cv=kf)\n",
    "#print(np.mean(scores))\n",
    "evaluate_model(decision_tree, raw_df_r, y)"
   ]
  },
  {
   "cell_type": "code",
   "execution_count": 6,
   "metadata": {},
   "outputs": [],
   "source": [
    "# Print branch information (for debugging)\n",
    "#feature_names = data_frame.columns\n",
    "#for node_id in range(tree.node_count):\n",
    "#    if tree.children_left[node_id] != tree.children_right[node_id]:  # split node\n",
    "#        feature_index = tree.feature[node_id]\n",
    "#        print(f\"Node {node_id}:\")\n",
    "#        print(f\" - Split feature: {feature_names[feature_index]}\")  # feature name\n",
    "#        print(f\" - Threshold: {tree.threshold[node_id]}\")\n",
    "#        print(f\" - Left child: {tree.children_left[node_id]}\")\n",
    "#        print(f\" - Right child: {tree.children_right[node_id]}\")\n",
    "#    else:  # leaf node\n",
    "#        print(f\"Leaf Node {node_id}:\")\n",
    "#        print(f\" - Value: {tree.value[node_id]}\")"
   ]
  },
  {
   "cell_type": "code",
   "execution_count": null,
   "metadata": {},
   "outputs": [],
   "source": []
  },
  {
   "cell_type": "code",
   "execution_count": null,
   "metadata": {},
   "outputs": [],
   "source": []
  }
 ],
 "metadata": {
  "colab": {
   "authorship_tag": "ABX9TyN/H8mta3Rr6JzhC6FpzKc3",
   "mount_file_id": "1O6-89A5F_EpKEBuP9Spxrt5ojylNVuyN",
   "provenance": []
  },
  "kernelspec": {
   "display_name": "Python 3 (ipykernel)",
   "language": "python",
   "name": "python3"
  },
  "language_info": {
   "codemirror_mode": {
    "name": "ipython",
    "version": 3
   },
   "file_extension": ".py",
   "mimetype": "text/x-python",
   "name": "python",
   "nbconvert_exporter": "python",
   "pygments_lexer": "ipython3",
   "version": "3.10.15"
  }
 },
 "nbformat": 4,
 "nbformat_minor": 4
}
