{
 "cells": [
  {
   "cell_type": "code",
   "execution_count": 1,
   "metadata": {
    "scrolled": true
   },
   "outputs": [],
   "source": [
    "%run HeartDataPreprocess.ipynb\n",
    "%run Evaluation.ipynb"
   ]
  },
  {
   "cell_type": "code",
   "execution_count": 6,
   "metadata": {
    "scrolled": true
   },
   "outputs": [
    {
     "name": "stdout",
     "output_type": "stream",
     "text": [
      "Depth = 12, train_score = 0.9307065217391305, test_score = 0.5054347826086957\n"
     ]
    }
   ],
   "source": [
    "from sklearn.model_selection import train_test_split\n",
    "from sklearn.tree import DecisionTreeClassifier\n",
    "X = normalisedHot_data\n",
    "X_train, X_test, y_train, y_test = train_test_split(X, y, test_size=0.2, random_state=42)\n",
    "#for depth in list(range(10, 101, 10)):\n",
    "for depth in list(range(12, 13, 1)):\n",
    "    tree_cl = DecisionTreeClassifier(max_depth=depth)\n",
    "    tree_cl.fit(X_train, y_train)\n",
    "    train_score = tree_cl.score(X_train, y_train)  \n",
    "    test_score = tree_cl.score(X_test, y_test)  \n",
    "    print(f'Depth = {depth}, train_score = {train_score}, test_score = {test_score}')\n",
    "\n",
    "tree = tree_cl.tree_"
   ]
  },
  {
   "cell_type": "code",
   "execution_count": 4,
   "metadata": {},
   "outputs": [
    {
     "name": "stdout",
     "output_type": "stream",
     "text": [
      "\n",
      "Model: DecisionTreeClassifier(max_depth=12)\n",
      "Training score:\t0.967\n",
      "Testing score:\t0.496\n",
      "Training time:\t0.019s\n",
      "Average score:\t(47.61 +- 1.463)%\n",
      "Cross-validation time:\t0.109s\n"
     ]
    }
   ],
   "source": [
    "#from sklearn.model_selection import KFold\n",
    "#from sklearn.model_selection import cross_val_score\n",
    "#kf = KFold(n_splits=5, shuffle=True)\n",
    "decision_tree = DecisionTreeClassifier(max_depth=12)\n",
    "#scores = cross_val_score(decision_tree, raw_df_r, y_r, cv=kf)\n",
    "#print(np.mean(scores))\n",
    "evaluate_model(decision_tree, normalisedHot_data, y)"
   ]
  },
  {
   "cell_type": "code",
   "execution_count": 8,
   "metadata": {},
   "outputs": [],
   "source": [
    "#Print branch information (for debugging)\n",
    "#feature_names = data_frame.columns\n",
    "#for node_id in range(tree.node_count):\n",
    "#    if tree.children_left[node_id] != tree.children_right[node_id]:  # split node\n",
    "#        feature_index = tree.feature[node_id]\n",
    "#        print(f\"Node {node_id}:\")\n",
    "#        print(f\" - Split feature: {feature_names[feature_index]}\")  # feature name\n",
    "#        print(f\" - Threshold: {tree.threshold[node_id]}\")\n",
    "#        print(f\" - Left child: {tree.children_left[node_id]}\")\n",
    "#        print(f\" - Right child: {tree.children_right[node_id]}\")\n",
    "#    else:  # leaf node\n",
    "#        print(f\"Leaf Node {node_id}:\")\n",
    "#        print(f\" - Value: {tree.value[node_id]}\")"
   ]
  }
 ],
 "metadata": {
  "colab": {
   "authorship_tag": "ABX9TyN/H8mta3Rr6JzhC6FpzKc3",
   "mount_file_id": "1O6-89A5F_EpKEBuP9Spxrt5ojylNVuyN",
   "provenance": []
  },
  "kernelspec": {
   "display_name": "Python 3 (ipykernel)",
   "language": "python",
   "name": "python3"
  },
  "language_info": {
   "codemirror_mode": {
    "name": "ipython",
    "version": 3
   },
   "file_extension": ".py",
   "mimetype": "text/x-python",
   "name": "python",
   "nbconvert_exporter": "python",
   "pygments_lexer": "ipython3",
   "version": "3.9.15"
  }
 },
 "nbformat": 4,
 "nbformat_minor": 4
}
