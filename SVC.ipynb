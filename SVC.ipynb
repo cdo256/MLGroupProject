{
 "cells": [
  {
   "cell_type": "code",
   "execution_count": null,
   "id": "initial_id",
   "metadata": {
    "collapsed": true
   },
   "outputs": [],
   "source": [
    "from sklearn.model_selection import train_test_split, GridSearchCV\n",
    "from sklearn.svm import SVC\n",
    "\n",
    "%run HeartDataPreprocess.ipynb\n",
    "\n",
    "# Set up the parameter grid for SVM\n",
    "param_grid = {\n",
    "    'C': [0.1, 1, 10],\n",
    "    'kernel': ['kernel', 'rbf']\n",
    "}\n",
    "\n",
    "# Initialize the SVM model\n",
    "svm = SVC(C=0.1,kernel=\"rbf\",)\n",
    "svm.fit(normalisedHot_df_train, y_norm_train)\n",
    "# Set up GridSearchCV\n",
    "grid_search = GridSearchCV(estimator=svm, param_grid=param_grid, scoring='neg_mean_squared_error', cv=5)\n",
    "grid_search.fit(normalisedHot_df_train, y_norm_train)\n",
    "# Best parameters from grid search\n",
    "print(\"Best parameters found: \", grid_search.best_params_)\n",
    "# Use the best model to make predictions\n",
    "best_model = grid_search.best_estimator_\n",
    "predictions = best_model.predict(normalisedHot_df_test)\n",
    "# Evaluate the model\n",
    "classifier_score = svm.score(normalisedHot_df_test, y_norm_test)\n",
    "print('The classifier accuracy score of SVM is {:03.2f}'.format(classifier_score))"
   ]
  }
 ],
 "metadata": {
  "kernelspec": {
   "display_name": "Python 3",
   "language": "python",
   "name": "python3"
  },
  "language_info": {
   "codemirror_mode": {
    "name": "ipython",
    "version": 2
   },
   "file_extension": ".py",
   "mimetype": "text/x-python",
   "name": "python",
   "nbconvert_exporter": "python",
   "pygments_lexer": "ipython2",
   "version": "2.7.6"
  }
 },
 "nbformat": 4,
 "nbformat_minor": 5
}
